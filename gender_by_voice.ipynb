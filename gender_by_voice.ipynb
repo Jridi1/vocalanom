{
  "metadata": {
    "kernelspec": {
      "language": "python",
      "display_name": "Python 3",
      "name": "python3"
    },
    "language_info": {
      "pygments_lexer": "ipython3",
      "nbconvert_exporter": "python",
      "version": "3.6.4",
      "file_extension": ".py",
      "codemirror_mode": {
        "name": "ipython",
        "version": 3
      },
      "name": "python",
      "mimetype": "text/x-python"
    },
    "colab": {
      "name": "Predict gender  by voice",
      "provenance": []
    }
  },
  "nbformat_minor": 0,
  "nbformat": 4,
  "cells": [
    {
      "source": [
        "# IMPORTANT: RUN THIS CELL IN ORDER TO IMPORT YOUR KAGGLE DATA SOURCES,\n",
        "# THEN FEEL FREE TO DELETE THIS CELL.\n",
        "# NOTE: THIS NOTEBOOK ENVIRONMENT DIFFERS FROM KAGGLE'S PYTHON\n",
        "# ENVIRONMENT SO THERE MAY BE MISSING LIBRARIES USED BY YOUR\n",
        "# NOTEBOOK.\n",
        "import kagglehub\n",
        "mozillaorg_common_voice_path = kagglehub.dataset_download('mozillaorg/common-voice')\n",
        "\n",
        "print('Data source import complete.')\n"
      ],
      "metadata": {
        "id": "doXZVWo0_gPF"
      },
      "cell_type": "code",
      "outputs": [],
      "execution_count": null
    },
    {
      "cell_type": "code",
      "source": [
        "import numpy as np # linear algebra\n",
        "import pandas as pd # data processing, CSV file I/O (e.g. pd.read_csv)\n",
        "import warnings\n",
        "warnings.filterwarnings('ignore')\n",
        "from matplotlib import pyplot as plt\n",
        "import plotly.express as px\n",
        "import plotly.graph_objects as go\n",
        "import seaborn as sns\n",
        "from pydub import AudioSegment\n",
        "from scipy.io import wavfile\n",
        "from tempfile import mktemp\n",
        "from pydub import AudioSegment\n",
        "import IPython\n",
        "import librosa\n",
        "import IPython.display as ipd\n",
        "import librosa.display\n",
        "plt.figure(figsize=(15,4))\n",
        "import tensorflow as tf\n",
        "from tensorflow.keras.models import Sequential\n",
        "from tensorflow.keras.layers import Dense, LSTM, Dropout\n",
        "from tensorflow.keras.callbacks import ModelCheckpoint, EarlyStopping\n",
        "from sklearn.model_selection import RepeatedStratifiedKFold"
      ],
      "metadata": {
        "_uuid": "8f2839f25d086af736a60e9eeb907d3b93b6e0e5",
        "_cell_guid": "b1076dfc-b9ad-4769-8c92-a6c4dae69d19",
        "execution": {
          "iopub.status.busy": "2022-08-03T05:46:08.248649Z",
          "iopub.execute_input": "2022-08-03T05:46:08.248991Z",
          "iopub.status.idle": "2022-08-03T05:46:28.397347Z",
          "shell.execute_reply.started": "2022-08-03T05:46:08.248912Z",
          "shell.execute_reply": "2022-08-03T05:46:28.396307Z"
        },
        "trusted": true,
        "id": "50UBg7Aj_gPJ"
      },
      "execution_count": null,
      "outputs": []
    },
    {
      "cell_type": "code",
      "source": [
        "df=pd.read_csv('../input/common-voice/cv-valid-train.csv')"
      ],
      "metadata": {
        "execution": {
          "iopub.status.busy": "2022-08-03T05:49:20.651737Z",
          "iopub.execute_input": "2022-08-03T05:49:20.652392Z",
          "iopub.status.idle": "2022-08-03T05:49:20.952299Z",
          "shell.execute_reply.started": "2022-08-03T05:49:20.652355Z",
          "shell.execute_reply": "2022-08-03T05:49:20.951311Z"
        },
        "trusted": true,
        "id": "WC3wAVV4_gPK"
      },
      "execution_count": null,
      "outputs": []
    },
    {
      "cell_type": "code",
      "source": [
        "df.info()"
      ],
      "metadata": {
        "execution": {
          "iopub.status.busy": "2022-08-03T05:49:20.95416Z",
          "iopub.execute_input": "2022-08-03T05:49:20.954763Z",
          "iopub.status.idle": "2022-08-03T05:49:21.024879Z",
          "shell.execute_reply.started": "2022-08-03T05:49:20.954724Z",
          "shell.execute_reply": "2022-08-03T05:49:21.023585Z"
        },
        "trusted": true,
        "id": "GqbPlc1n_gPL"
      },
      "execution_count": null,
      "outputs": []
    },
    {
      "cell_type": "code",
      "source": [
        "df.head()"
      ],
      "metadata": {
        "execution": {
          "iopub.status.busy": "2022-08-03T05:49:32.359636Z",
          "iopub.execute_input": "2022-08-03T05:49:32.360718Z",
          "iopub.status.idle": "2022-08-03T05:49:32.375889Z",
          "shell.execute_reply.started": "2022-08-03T05:49:32.360673Z",
          "shell.execute_reply": "2022-08-03T05:49:32.374763Z"
        },
        "trusted": true,
        "id": "2lBvg8s6_gPL"
      },
      "execution_count": null,
      "outputs": []
    },
    {
      "cell_type": "code",
      "source": [
        "df.isna().sum()"
      ],
      "metadata": {
        "execution": {
          "iopub.status.busy": "2022-08-03T05:49:33.873784Z",
          "iopub.execute_input": "2022-08-03T05:49:33.874147Z",
          "iopub.status.idle": "2022-08-03T05:49:33.924761Z",
          "shell.execute_reply.started": "2022-08-03T05:49:33.874113Z",
          "shell.execute_reply": "2022-08-03T05:49:33.92351Z"
        },
        "trusted": true,
        "id": "NTq_FxhK_gPL"
      },
      "execution_count": null,
      "outputs": []
    },
    {
      "cell_type": "code",
      "source": [
        "df.drop('duration',axis=1,inplace=True)\n",
        "df.shape"
      ],
      "metadata": {
        "execution": {
          "iopub.status.busy": "2022-08-03T05:50:37.896031Z",
          "iopub.execute_input": "2022-08-03T05:50:37.896783Z",
          "iopub.status.idle": "2022-08-03T05:50:37.915641Z",
          "shell.execute_reply.started": "2022-08-03T05:50:37.896745Z",
          "shell.execute_reply": "2022-08-03T05:50:37.914437Z"
        },
        "trusted": true,
        "id": "pHqO2lDP_gPM"
      },
      "execution_count": null,
      "outputs": []
    },
    {
      "cell_type": "code",
      "source": [
        "data=df[(df.age.notna())&(df.gender.notna())]\n",
        "data.shape"
      ],
      "metadata": {
        "execution": {
          "iopub.status.busy": "2022-08-03T05:50:39.96177Z",
          "iopub.execute_input": "2022-08-03T05:50:39.96273Z",
          "iopub.status.idle": "2022-08-03T05:50:39.996219Z",
          "shell.execute_reply.started": "2022-08-03T05:50:39.96269Z",
          "shell.execute_reply": "2022-08-03T05:50:39.995294Z"
        },
        "trusted": true,
        "id": "H6fy_mOO_gPM"
      },
      "execution_count": null,
      "outputs": []
    },
    {
      "cell_type": "code",
      "source": [
        "age_count=data.groupby(['age','gender']).agg({'filename':'count'}).reset_index()\n",
        "fig = px.bar(age_count, x=\"age\", y=\"filename\", color=\"gender\", title=\"Count files by age\",text_auto=True).update_xaxes(categoryorder=\"total descending\")\n",
        "fig.show()"
      ],
      "metadata": {
        "execution": {
          "iopub.status.busy": "2022-08-02T07:32:44.857608Z",
          "iopub.execute_input": "2022-08-02T07:32:44.857986Z",
          "iopub.status.idle": "2022-08-02T07:32:45.615473Z",
          "shell.execute_reply.started": "2022-08-02T07:32:44.857948Z",
          "shell.execute_reply": "2022-08-02T07:32:45.614528Z"
        },
        "trusted": true,
        "id": "y_fTMns-_gPN"
      },
      "execution_count": null,
      "outputs": []
    },
    {
      "cell_type": "code",
      "source": [
        "gender_count=data.groupby('gender').agg({'filename':'count'}).reset_index()\n",
        "fig = px.bar(gender_count, x=\"gender\", y=\"filename\",  title=\"Count files by gender\",text_auto=True).update_xaxes(categoryorder=\"total descending\")\n",
        "fig.show()"
      ],
      "metadata": {
        "execution": {
          "iopub.status.busy": "2022-08-02T07:32:45.617364Z",
          "iopub.execute_input": "2022-08-02T07:32:45.617987Z",
          "iopub.status.idle": "2022-08-02T07:32:45.680212Z",
          "shell.execute_reply.started": "2022-08-02T07:32:45.617949Z",
          "shell.execute_reply": "2022-08-02T07:32:45.679199Z"
        },
        "trusted": true,
        "id": "0x5FKc9D_gPN"
      },
      "execution_count": null,
      "outputs": []
    },
    {
      "cell_type": "code",
      "source": [
        "accent_count=data.groupby(['accent','gender']).agg({'filename':'count'}).reset_index()\n",
        "fig = px.bar(accent_count, x=\"accent\", y=\"filename\", color='gender', title=\"Count files by accent\",text_auto=True).update_xaxes(categoryorder=\"total descending\")\n",
        "fig.show()"
      ],
      "metadata": {
        "execution": {
          "iopub.status.busy": "2022-08-02T07:32:46.6388Z",
          "iopub.execute_input": "2022-08-02T07:32:46.639495Z",
          "iopub.status.idle": "2022-08-02T07:32:46.718955Z",
          "shell.execute_reply.started": "2022-08-02T07:32:46.639456Z",
          "shell.execute_reply": "2022-08-02T07:32:46.717873Z"
        },
        "trusted": true,
        "id": "YncL1pHj_gPO"
      },
      "execution_count": null,
      "outputs": []
    },
    {
      "cell_type": "code",
      "source": [
        "accent_count=data.groupby(['accent','age']).agg({'filename':'count'}).reset_index()\n",
        "fig = px.bar(accent_count, x=\"accent\", y=\"filename\", color='age', title=\"Count files by accent\",text_auto=True).update_xaxes(categoryorder=\"total descending\")\n",
        "fig.show()"
      ],
      "metadata": {
        "execution": {
          "iopub.status.busy": "2022-08-02T07:32:47.288988Z",
          "iopub.execute_input": "2022-08-02T07:32:47.289774Z",
          "iopub.status.idle": "2022-08-02T07:32:47.390018Z",
          "shell.execute_reply.started": "2022-08-02T07:32:47.289726Z",
          "shell.execute_reply": "2022-08-02T07:32:47.388853Z"
        },
        "trusted": true,
        "id": "Nz-HHWDG_gPO"
      },
      "execution_count": null,
      "outputs": []
    },
    {
      "cell_type": "code",
      "source": [
        "path =['../input/common-voice/cv-valid-train/'+path for path in data.filename]\n",
        "sr = 22050 # sample rate\n",
        "IPython.display.Audio(path[1], rate=sr)"
      ],
      "metadata": {
        "execution": {
          "iopub.status.busy": "2022-08-03T05:50:53.526109Z",
          "iopub.execute_input": "2022-08-03T05:50:53.526805Z",
          "iopub.status.idle": "2022-08-03T05:50:53.56559Z",
          "shell.execute_reply.started": "2022-08-03T05:50:53.526769Z",
          "shell.execute_reply": "2022-08-03T05:50:53.564636Z"
        },
        "trusted": true,
        "id": "L1cplubQ_gPO"
      },
      "execution_count": null,
      "outputs": []
    },
    {
      "cell_type": "code",
      "source": [
        "mp3_audio = AudioSegment.from_file(path[0], format=\"mp3\")  # read mp3\n",
        "wname = mktemp('.wav')  # use temporary file\n",
        "mp3_audio.export(wname, format=\"wav\")  # convert to wav\n",
        "FS, ds = wavfile.read(wname)  # read wav file\n",
        "plt.specgram(ds, Fs=FS, NFFT=128, noverlap=0)  # plot\n",
        "plt.title('Female spectogram 20 age')\n",
        "plt.show()"
      ],
      "metadata": {
        "execution": {
          "iopub.status.busy": "2022-08-03T05:50:54.752005Z",
          "iopub.execute_input": "2022-08-03T05:50:54.752983Z",
          "iopub.status.idle": "2022-08-03T05:50:55.831836Z",
          "shell.execute_reply.started": "2022-08-03T05:50:54.752943Z",
          "shell.execute_reply": "2022-08-03T05:50:55.830584Z"
        },
        "trusted": true,
        "id": "Bj4Xr9cJ_gPO"
      },
      "execution_count": null,
      "outputs": []
    },
    {
      "cell_type": "code",
      "source": [
        "mp3_audio = AudioSegment.from_file(path[25], format=\"mp3\")  # read mp3\n",
        "wname = mktemp('.wav')  # use temporary file\n",
        "mp3_audio.export(wname, format=\"wav\")  # convert to wav\n",
        "FS, ds = wavfile.read(wname)  # read wav file\n",
        "plt.specgram(ds, Fs=FS, NFFT=128, noverlap=0)  # plot\n",
        "plt.title('Female spectogram 20 age')\n",
        "plt.show()"
      ],
      "metadata": {
        "execution": {
          "iopub.status.busy": "2022-08-03T05:50:55.833686Z",
          "iopub.execute_input": "2022-08-03T05:50:55.83465Z",
          "iopub.status.idle": "2022-08-03T05:50:56.422844Z",
          "shell.execute_reply.started": "2022-08-03T05:50:55.834603Z",
          "shell.execute_reply": "2022-08-03T05:50:56.421849Z"
        },
        "trusted": true,
        "id": "-dkHQK2O_gPO"
      },
      "execution_count": null,
      "outputs": []
    },
    {
      "cell_type": "code",
      "source": [
        "mp3_audio = AudioSegment.from_file(path[26], format=\"mp3\")  # read mp3\n",
        "wname = mktemp('.wav')  # use temporary file\n",
        "mp3_audio.export(wname, format=\"wav\")  # convert to wav\n",
        "FS, ds = wavfile.read(wname)  # read wav file\n",
        "plt.specgram(ds, Fs=FS, NFFT=128, noverlap=0)  # plot\n",
        "plt.title('Male spectogram 20 age')\n",
        "plt.show()"
      ],
      "metadata": {
        "execution": {
          "iopub.status.busy": "2022-08-02T07:44:15.394418Z",
          "iopub.execute_input": "2022-08-02T07:44:15.394808Z",
          "iopub.status.idle": "2022-08-02T07:44:16.040724Z",
          "shell.execute_reply.started": "2022-08-02T07:44:15.394774Z",
          "shell.execute_reply": "2022-08-02T07:44:16.039669Z"
        },
        "trusted": true,
        "id": "O4NL5fT-_gPP"
      },
      "execution_count": null,
      "outputs": []
    },
    {
      "cell_type": "code",
      "source": [
        "mp3_audio = AudioSegment.from_file(path[42], format=\"mp3\")  # read mp3\n",
        "wname = mktemp('.wav')  # use temporary file\n",
        "mp3_audio.export(wname, format=\"wav\")  # convert to wav\n",
        "FS, ds = wavfile.read(wname)  # read wav file\n",
        "plt.specgram(ds, Fs=FS, NFFT=128, noverlap=0)  # plot\n",
        "plt.title('Male spectogram 20 age')\n",
        "plt.show()"
      ],
      "metadata": {
        "execution": {
          "iopub.status.busy": "2022-08-02T07:49:43.684182Z",
          "iopub.execute_input": "2022-08-02T07:49:43.685148Z",
          "iopub.status.idle": "2022-08-02T07:49:44.138719Z",
          "shell.execute_reply.started": "2022-08-02T07:49:43.685109Z",
          "shell.execute_reply": "2022-08-02T07:49:44.137556Z"
        },
        "trusted": true,
        "id": "U5Dym3cg_gPP"
      },
      "execution_count": null,
      "outputs": []
    },
    {
      "cell_type": "code",
      "source": [
        "mp3_audio = AudioSegment.from_file(path[48], format=\"mp3\")  # read mp3\n",
        "wname = mktemp('.wav')  # use temporary file\n",
        "mp3_audio.export(wname, format=\"wav\")  # convert to wav\n",
        "FS, ds = wavfile.read(wname)  # read wav file\n",
        "plt.specgram(ds, Fs=FS, NFFT=128, noverlap=0)  # plot\n",
        "plt.title('Male spectogram fourties age')\n",
        "plt.show()"
      ],
      "metadata": {
        "execution": {
          "iopub.status.busy": "2022-08-02T08:23:08.447296Z",
          "iopub.execute_input": "2022-08-02T08:23:08.447738Z",
          "iopub.status.idle": "2022-08-02T08:23:08.908727Z",
          "shell.execute_reply.started": "2022-08-02T08:23:08.447699Z",
          "shell.execute_reply": "2022-08-02T08:23:08.907585Z"
        },
        "trusted": true,
        "id": "54u5w7b0_gPP"
      },
      "execution_count": null,
      "outputs": []
    },
    {
      "cell_type": "code",
      "source": [
        "mp3_audio = AudioSegment.from_file(path[33], format=\"mp3\")  # read mp3\n",
        "wname = mktemp('.wav')  # use temporary file\n",
        "mp3_audio.export(wname, format=\"wav\")  # convert to wav\n",
        "FS, ds = wavfile.read(wname)  # read wav file\n",
        "plt.specgram(ds, Fs=FS, NFFT=128, noverlap=0)  # plot\n",
        "plt.title('Female spectogram fourties age')\n",
        "plt.show()"
      ],
      "metadata": {
        "execution": {
          "iopub.status.busy": "2022-08-02T08:23:03.477792Z",
          "iopub.execute_input": "2022-08-02T08:23:03.478218Z",
          "iopub.status.idle": "2022-08-02T08:23:03.992185Z",
          "shell.execute_reply.started": "2022-08-02T08:23:03.478182Z",
          "shell.execute_reply": "2022-08-02T08:23:03.991086Z"
        },
        "trusted": true,
        "id": "ANRoiFom_gPP"
      },
      "execution_count": null,
      "outputs": []
    },
    {
      "cell_type": "markdown",
      "source": [
        "### MicroFunctions"
      ],
      "metadata": {
        "execution": {
          "iopub.status.busy": "2022-08-02T08:25:28.725745Z",
          "iopub.execute_input": "2022-08-02T08:25:28.726665Z",
          "iopub.status.idle": "2022-08-02T08:25:28.737489Z",
          "shell.execute_reply.started": "2022-08-02T08:25:28.726593Z",
          "shell.execute_reply": "2022-08-02T08:25:28.736379Z"
        },
        "id": "9lYyoJdD_gPQ"
      }
    },
    {
      "cell_type": "code",
      "source": [
        "y,sr = librosa.load(path[0], sr=22050, mono=True, offset=0.0, duration=50, res_type='kaiser_best')"
      ],
      "metadata": {
        "execution": {
          "iopub.status.busy": "2022-08-03T05:51:01.794241Z",
          "iopub.execute_input": "2022-08-03T05:51:01.794792Z",
          "iopub.status.idle": "2022-08-03T05:51:02.648544Z",
          "shell.execute_reply.started": "2022-08-03T05:51:01.794747Z",
          "shell.execute_reply": "2022-08-03T05:51:02.647211Z"
        },
        "trusted": true,
        "id": "7NfAU41B_gPR"
      },
      "execution_count": null,
      "outputs": []
    },
    {
      "cell_type": "code",
      "source": [
        "#amplitude envelope of a waveform.\n",
        "librosa.display.waveshow(y,sr=sr)"
      ],
      "metadata": {
        "execution": {
          "iopub.status.busy": "2022-08-03T05:51:39.812513Z",
          "iopub.execute_input": "2022-08-03T05:51:39.81291Z",
          "iopub.status.idle": "2022-08-03T05:51:40.371158Z",
          "shell.execute_reply.started": "2022-08-03T05:51:39.812873Z",
          "shell.execute_reply": "2022-08-03T05:51:40.369903Z"
        },
        "trusted": true,
        "id": "6J15kE_6_gPS"
      },
      "execution_count": null,
      "outputs": []
    },
    {
      "cell_type": "code",
      "source": [
        "y, sr = librosa.load(path[0], duration=10)\n",
        "y_harm, y_perc = librosa.effects.hpss(y)\n",
        "plt.subplot(3, 1, 3)\n",
        "librosa.display.waveshow(y_harm, sr=sr, alpha=0.25)\n",
        "librosa.display.waveshow(y_perc, sr=sr, color='r', alpha=0.5)\n",
        "plt.title('Harmonic + Percussive')\n",
        "plt.tight_layout()\n",
        "plt.show()"
      ],
      "metadata": {
        "execution": {
          "iopub.status.busy": "2022-08-02T08:58:52.236941Z",
          "iopub.execute_input": "2022-08-02T08:58:52.237851Z",
          "iopub.status.idle": "2022-08-02T08:58:53.887635Z",
          "shell.execute_reply.started": "2022-08-02T08:58:52.237814Z",
          "shell.execute_reply": "2022-08-02T08:58:53.886592Z"
        },
        "trusted": true,
        "id": "j-LLopmB_gPS"
      },
      "execution_count": null,
      "outputs": []
    },
    {
      "cell_type": "code",
      "source": [
        "y, sr = librosa.load(path[0], duration=10)\n",
        "plt.figure(figsize=(12, 8))\n",
        "D = librosa.amplitude_to_db(np.abs(librosa.stft(y)), ref=np.max)\n",
        "plt.subplot(4, 2, 1)\n",
        "librosa.display.specshow(D, y_axis='linear')\n",
        "plt.colorbar(format='%+2.0f dB')\n",
        "plt.title('Linear-frequency power spectrogram')\n",
        "plt.subplot(4, 2, 2)\n",
        "librosa.display.specshow(D, y_axis='log')\n",
        "plt.colorbar(format='%+2.0f dB')\n",
        "plt.title('Log-frequency power spectrogram')\n",
        "CQT = librosa.amplitude_to_db(np.abs(librosa.cqt(y, sr=sr)), ref=np.max)\n",
        "plt.subplot(4, 2, 3)\n",
        "librosa.display.specshow(CQT, y_axis='cqt_note')\n",
        "plt.colorbar(format='%+2.0f dB')\n",
        "plt.title('Constant-Q power spectrogram (note)')\n",
        "plt.subplot(4, 2, 4)\n",
        "librosa.display.specshow(CQT, y_axis='cqt_hz')\n",
        "plt.colorbar(format='%+2.0f dB')\n",
        "plt.title('Constant-Q power spectrogram (Hz)')\n",
        "C = librosa.feature.chroma_cqt(y=y, sr=sr)\n",
        "plt.subplot(4, 2, 5)\n",
        "librosa.display.specshow(C, y_axis='chroma')\n",
        "plt.colorbar()\n",
        "plt.title('Chromagram')\n",
        "plt.subplot(4, 2, 6)\n",
        "librosa.display.specshow(D, cmap='gray_r', y_axis='linear')\n",
        "plt.colorbar(format='%+2.0f dB')\n",
        "plt.title('Linear power spectrogram (grayscale)')\n",
        "plt.subplot(4, 2, 7)\n",
        "librosa.display.specshow(D, x_axis='time', y_axis='log')\n",
        "plt.colorbar(format='%+2.0f dB')\n",
        "plt.title('Log power spectrogram')\n",
        "plt.subplot(4, 2, 8)\n",
        "Tgram = librosa.feature.tempogram(y=y, sr=sr)\n",
        "librosa.display.specshow(Tgram, x_axis='time', y_axis='tempo')\n",
        "plt.colorbar()\n",
        "plt.title('Tempogram')\n",
        "plt.tight_layout()\n",
        "plt.show()"
      ],
      "metadata": {
        "execution": {
          "iopub.status.busy": "2022-08-02T08:59:00.143001Z",
          "iopub.execute_input": "2022-08-02T08:59:00.143398Z",
          "iopub.status.idle": "2022-08-02T08:59:03.359992Z",
          "shell.execute_reply.started": "2022-08-02T08:59:00.143363Z",
          "shell.execute_reply": "2022-08-02T08:59:03.358792Z"
        },
        "trusted": true,
        "id": "HgbsaBme_gPS"
      },
      "execution_count": null,
      "outputs": []
    },
    {
      "cell_type": "code",
      "source": [
        "cleanup_nums = {\"teens\":0.0,\"twenties\":1.0,\"thirties\":2.0,\"fourties\":3.0,\"fifties\":4.0,\"sixties\":5.0,\"seventies\":6.0,\"twenties\":7.0,\"eighties\":8.0}\n",
        "data.age = data.age.map(cleanup_nums)\n",
        "data = data[:1000]\n",
        "data.head()"
      ],
      "metadata": {
        "execution": {
          "iopub.status.busy": "2022-08-03T05:51:47.111353Z",
          "iopub.execute_input": "2022-08-03T05:51:47.11198Z",
          "iopub.status.idle": "2022-08-03T05:51:47.149465Z",
          "shell.execute_reply.started": "2022-08-03T05:51:47.111944Z",
          "shell.execute_reply": "2022-08-03T05:51:47.148336Z"
        },
        "trusted": true,
        "id": "Sxncb2mA_gPT"
      },
      "execution_count": null,
      "outputs": []
    },
    {
      "cell_type": "code",
      "source": [
        "ds_path = \"/kaggle/input/common-voice/cv-valid-train/\"\n",
        "\n",
        "#this function is used to extract audio frequency features\n",
        "def feature_extraction(filename, sampling_rate=48000):\n",
        "    path = \"{}{}\".format(ds_path, filename)\n",
        "    features = list()\n",
        "    audio, _ = librosa.load(path, sr=sampling_rate)\n",
        "\n",
        "    gender = data[data['filename'] == filename].gender.values[0]\n",
        "    spectral_centroid = np.mean(librosa.feature.spectral_centroid(y=audio, sr=sampling_rate))\n",
        "    spectral_bandwidth = np.mean(librosa.feature.spectral_bandwidth(y=audio, sr=sampling_rate))\n",
        "    spectral_rolloff = np.mean(librosa.feature.spectral_rolloff(y=audio, sr=sampling_rate))\n",
        "    features.append(gender)\n",
        "    features.append(spectral_centroid)\n",
        "    features.append(spectral_bandwidth)\n",
        "    features.append(spectral_rolloff)\n",
        "\n",
        "    mfcc = librosa.feature.mfcc(y=audio, sr=sampling_rate)\n",
        "    for el in mfcc:\n",
        "        features.append(np.mean(el))\n",
        "\n",
        "    return features\n",
        "\n",
        "\n",
        "features = feature_extraction(data.iloc[0]['filename'])\n",
        "print(\"features: \", features)"
      ],
      "metadata": {
        "execution": {
          "iopub.status.busy": "2022-08-03T05:51:52.092998Z",
          "iopub.execute_input": "2022-08-03T05:51:52.093495Z",
          "iopub.status.idle": "2022-08-03T05:51:53.05215Z",
          "shell.execute_reply.started": "2022-08-03T05:51:52.09345Z",
          "shell.execute_reply": "2022-08-03T05:51:53.048474Z"
        },
        "trusted": true,
        "id": "QdODwttE_gPT"
      },
      "execution_count": null,
      "outputs": []
    },
    {
      "cell_type": "code",
      "source": [
        "def create_df_features(orig):\n",
        "    new_rows = list()\n",
        "    tot_rows = len(orig)-1\n",
        "    stop_counter = 1000\n",
        "\n",
        "    for idx, row in orig.iterrows():\n",
        "        if idx >= stop_counter: break\n",
        "        print(\"\\r\", end=\"\")\n",
        "        print(\"{}/{}\".format(idx, tot_rows), end=\"\", flush=True)\n",
        "        features = feature_extraction(row['filename'])\n",
        "        features.append(row['age'])\n",
        "        new_rows.append(features)\n",
        "\n",
        "    return pd.DataFrame(new_rows, columns=[\"label\", \"spectral_centroid\", \"spectral_bandwidth\", \"spectral_rolloff\",\n",
        "                                    \"mfcc1\", \"mfcc2\", \"mfcc3\", \"mfcc4\", \"mfcc5\", \"mfcc6\", \"mfcc7\", \"mfcc8\",\n",
        "                                   \"mfcc9\", \"mfcc10\", \"mfcc11\", \"mfcc12\", \"mfcc13\", \"mfcc14\", \"mfcc15\", \"mfcc16\",\n",
        "                                   \"mfcc17\", \"mfcc18\", \"mfcc19\", \"mfcc20\", \"age\"])\n",
        "\n",
        "df_features = create_df_features(data)\n",
        "df_features.head()"
      ],
      "metadata": {
        "execution": {
          "iopub.status.busy": "2022-08-03T05:51:54.288721Z",
          "iopub.execute_input": "2022-08-03T05:51:54.289324Z",
          "iopub.status.idle": "2022-08-03T05:55:36.845304Z",
          "shell.execute_reply.started": "2022-08-03T05:51:54.289278Z",
          "shell.execute_reply": "2022-08-03T05:55:36.843602Z"
        },
        "trusted": true,
        "id": "B-VOvImc_gPU"
      },
      "execution_count": null,
      "outputs": []
    },
    {
      "cell_type": "code",
      "source": [
        "df_features.shape"
      ],
      "metadata": {
        "execution": {
          "iopub.status.busy": "2022-08-03T05:57:19.560834Z",
          "iopub.execute_input": "2022-08-03T05:57:19.561973Z",
          "iopub.status.idle": "2022-08-03T05:57:19.575451Z",
          "shell.execute_reply.started": "2022-08-03T05:57:19.561925Z",
          "shell.execute_reply": "2022-08-03T05:57:19.574286Z"
        },
        "trusted": true,
        "id": "4X4N1AmD_gPU"
      },
      "execution_count": null,
      "outputs": []
    },
    {
      "cell_type": "code",
      "source": [
        "df_features.iloc[:,1:]"
      ],
      "metadata": {
        "execution": {
          "iopub.status.busy": "2022-08-03T05:58:00.533069Z",
          "iopub.execute_input": "2022-08-03T05:58:00.533451Z",
          "iopub.status.idle": "2022-08-03T05:58:00.568789Z",
          "shell.execute_reply.started": "2022-08-03T05:58:00.533418Z",
          "shell.execute_reply": "2022-08-03T05:58:00.567805Z"
        },
        "trusted": true,
        "id": "RYbPs8ma_gPU"
      },
      "execution_count": null,
      "outputs": []
    },
    {
      "cell_type": "code",
      "source": [
        "from sklearn.preprocessing import StandardScaler\n",
        "data = df_features.iloc[:,1:]\n",
        "scaler = StandardScaler()\n",
        "df_features.iloc[:,1:]=scaler.fit_transform(data)\n"
      ],
      "metadata": {
        "execution": {
          "iopub.status.busy": "2022-08-03T05:58:03.297716Z",
          "iopub.execute_input": "2022-08-03T05:58:03.298357Z",
          "iopub.status.idle": "2022-08-03T05:58:03.317497Z",
          "shell.execute_reply.started": "2022-08-03T05:58:03.298319Z",
          "shell.execute_reply": "2022-08-03T05:58:03.316601Z"
        },
        "trusted": true,
        "id": "t17e69k1_gPU"
      },
      "execution_count": null,
      "outputs": []
    },
    {
      "cell_type": "code",
      "source": [
        "from sklearn.preprocessing import LabelEncoder\n",
        "le = LabelEncoder()\n",
        "df_features['label']=le.fit_transform(df_features.label)\n"
      ],
      "metadata": {
        "execution": {
          "iopub.status.busy": "2022-08-03T05:58:05.822402Z",
          "iopub.execute_input": "2022-08-03T05:58:05.823408Z",
          "iopub.status.idle": "2022-08-03T05:58:05.830202Z",
          "shell.execute_reply.started": "2022-08-03T05:58:05.823368Z",
          "shell.execute_reply": "2022-08-03T05:58:05.828974Z"
        },
        "trusted": true,
        "id": "O_P4rzL2_gPU"
      },
      "execution_count": null,
      "outputs": []
    },
    {
      "cell_type": "code",
      "source": [
        "df_features"
      ],
      "metadata": {
        "execution": {
          "iopub.status.busy": "2022-08-03T05:58:07.698122Z",
          "iopub.execute_input": "2022-08-03T05:58:07.699192Z",
          "iopub.status.idle": "2022-08-03T05:58:07.73628Z",
          "shell.execute_reply.started": "2022-08-03T05:58:07.699143Z",
          "shell.execute_reply": "2022-08-03T05:58:07.735224Z"
        },
        "trusted": true,
        "id": "La_vTpws_gPV"
      },
      "execution_count": null,
      "outputs": []
    },
    {
      "cell_type": "code",
      "source": [
        "x=df_features.iloc[:,1:]\n",
        "y=df_features['label']"
      ],
      "metadata": {
        "execution": {
          "iopub.status.busy": "2022-08-03T05:59:22.84233Z",
          "iopub.execute_input": "2022-08-03T05:59:22.843354Z",
          "iopub.status.idle": "2022-08-03T05:59:22.84965Z",
          "shell.execute_reply.started": "2022-08-03T05:59:22.843313Z",
          "shell.execute_reply": "2022-08-03T05:59:22.848652Z"
        },
        "trusted": true,
        "id": "82HMy8Nh_gPV"
      },
      "execution_count": null,
      "outputs": []
    },
    {
      "cell_type": "code",
      "source": [
        "from sklearn.feature_selection import SelectKBest\n",
        "from sklearn.feature_selection import f_classif\n",
        "\n",
        "n_features = 22\n",
        "\n",
        "f_selector = SelectKBest(f_classif, k=n_features).fit(x, y)\n",
        "X_new = f_selector.transform(x)\n",
        "scores = f_selector.scores_\n",
        "\n",
        "indices = np.argsort(scores)[::-1]\n",
        "\n",
        "features = []\n",
        "for i in range(n_features):\n",
        "    features.append(df_features.columns[indices[i]])\n",
        "\n",
        "plt.figure(figsize=(22, 5))\n",
        "plt.bar(features, scores[indices[range(n_features)]], color='g')\n",
        "plt.xticks(fontsize=8)\n",
        "plt.show()"
      ],
      "metadata": {
        "execution": {
          "iopub.status.busy": "2022-08-03T05:59:36.729173Z",
          "iopub.execute_input": "2022-08-03T05:59:36.72957Z",
          "iopub.status.idle": "2022-08-03T05:59:37.017172Z",
          "shell.execute_reply.started": "2022-08-03T05:59:36.729538Z",
          "shell.execute_reply": "2022-08-03T05:59:37.016242Z"
        },
        "trusted": true,
        "id": "1fx0eMq1_gPV"
      },
      "execution_count": null,
      "outputs": []
    },
    {
      "cell_type": "code",
      "source": [
        "def target_coeff(dataframe,target):\n",
        "    data = dataframe.corr()[target].sort_values(ascending=False)\n",
        "    indices = data.index\n",
        "    labels = []\n",
        "    corr = []\n",
        "    for i in range(1, len(indices)):\n",
        "        labels.append(indices[i])\n",
        "        corr.append(data[i])\n",
        "    plt.figure(figsize=(10,8),dpi=100)\n",
        "    sns.barplot(x=corr, y=labels, palette=\"RdBu\")\n",
        "    plt.title('Correlation Coefficient for : {} column'.format(target.upper()))\n",
        "    plt.show()"
      ],
      "metadata": {
        "execution": {
          "iopub.status.busy": "2022-08-03T05:59:42.471535Z",
          "iopub.execute_input": "2022-08-03T05:59:42.471893Z",
          "iopub.status.idle": "2022-08-03T05:59:42.47987Z",
          "shell.execute_reply.started": "2022-08-03T05:59:42.471862Z",
          "shell.execute_reply": "2022-08-03T05:59:42.478836Z"
        },
        "trusted": true,
        "id": "MfcOJSFr_gPV"
      },
      "execution_count": null,
      "outputs": []
    },
    {
      "cell_type": "code",
      "source": [
        "target_coeff(df_features,'label')"
      ],
      "metadata": {
        "execution": {
          "iopub.status.busy": "2022-08-03T05:59:45.363286Z",
          "iopub.execute_input": "2022-08-03T05:59:45.364239Z",
          "iopub.status.idle": "2022-08-03T05:59:45.733082Z",
          "shell.execute_reply.started": "2022-08-03T05:59:45.364204Z",
          "shell.execute_reply": "2022-08-03T05:59:45.731957Z"
        },
        "trusted": true,
        "id": "Dg6ljxga_gPW"
      },
      "execution_count": null,
      "outputs": []
    },
    {
      "cell_type": "code",
      "source": [
        "fig = px.scatter(df_features, x=\"mfcc19\", y=\"mfcc6\",  color=\"label\",\n",
        "                 hover_data=['label'])\n",
        "fig.show()"
      ],
      "metadata": {
        "execution": {
          "iopub.status.busy": "2022-08-03T06:07:22.115577Z",
          "iopub.execute_input": "2022-08-03T06:07:22.11593Z",
          "iopub.status.idle": "2022-08-03T06:07:22.172148Z",
          "shell.execute_reply.started": "2022-08-03T06:07:22.1159Z",
          "shell.execute_reply": "2022-08-03T06:07:22.171226Z"
        },
        "trusted": true,
        "id": "RWFN164G_gPW"
      },
      "execution_count": null,
      "outputs": []
    },
    {
      "cell_type": "code",
      "source": [
        "fig = px.scatter(df_features, x=\"mfcc19\", y=\"mfcc9\",  color=\"label\",\n",
        "                 hover_data=['label'])\n",
        "fig.show()"
      ],
      "metadata": {
        "execution": {
          "iopub.status.busy": "2022-08-03T06:11:18.489837Z",
          "iopub.execute_input": "2022-08-03T06:11:18.49019Z",
          "iopub.status.idle": "2022-08-03T06:11:18.547029Z",
          "shell.execute_reply.started": "2022-08-03T06:11:18.49016Z",
          "shell.execute_reply": "2022-08-03T06:11:18.545891Z"
        },
        "trusted": true,
        "id": "wLvTwcHd_gPW"
      },
      "execution_count": null,
      "outputs": []
    },
    {
      "cell_type": "code",
      "source": [
        "fig = px.scatter(df_features, x=\"mfcc19\", y=\"mfcc6\",  color=\"label\",\n",
        "                 hover_data=['label'])\n",
        "fig.show()"
      ],
      "metadata": {
        "execution": {
          "iopub.status.busy": "2022-08-03T06:11:52.111416Z",
          "iopub.execute_input": "2022-08-03T06:11:52.111769Z",
          "iopub.status.idle": "2022-08-03T06:11:52.168224Z",
          "shell.execute_reply.started": "2022-08-03T06:11:52.111735Z",
          "shell.execute_reply": "2022-08-03T06:11:52.167175Z"
        },
        "trusted": true,
        "id": "FnSsoJgn_gPW"
      },
      "execution_count": null,
      "outputs": []
    },
    {
      "cell_type": "code",
      "source": [
        "fig = px.scatter(df_features, x=\"spectral_centroid\", y=\"spectral_rolloff\",  color=\"label\",\n",
        "                 hover_data=['label'])\n",
        "fig.show()"
      ],
      "metadata": {
        "execution": {
          "iopub.status.busy": "2022-08-03T06:13:00.045177Z",
          "iopub.execute_input": "2022-08-03T06:13:00.046232Z",
          "iopub.status.idle": "2022-08-03T06:13:00.103517Z",
          "shell.execute_reply.started": "2022-08-03T06:13:00.046194Z",
          "shell.execute_reply": "2022-08-03T06:13:00.102436Z"
        },
        "trusted": true,
        "id": "R_gAtFnM_gPd"
      },
      "execution_count": null,
      "outputs": []
    },
    {
      "cell_type": "code",
      "source": [
        "fig = px.scatter(df_features, x=\"spectral_centroid\", y=\"spectral_bandwidth\",  color=\"label\",\n",
        "                 hover_data=['label'])\n",
        "fig.show()"
      ],
      "metadata": {
        "execution": {
          "iopub.status.busy": "2022-08-03T06:14:01.057205Z",
          "iopub.execute_input": "2022-08-03T06:14:01.058424Z",
          "iopub.status.idle": "2022-08-03T06:14:01.142705Z",
          "shell.execute_reply.started": "2022-08-03T06:14:01.058377Z",
          "shell.execute_reply": "2022-08-03T06:14:01.141736Z"
        },
        "trusted": true,
        "id": "ytJqnItt_gPe"
      },
      "execution_count": null,
      "outputs": []
    },
    {
      "cell_type": "code",
      "source": [
        "fig = px.scatter(df_features, x=\"spectral_bandwidth\", y=\"spectral_rolloff\",  color=\"label\",\n",
        "                 hover_data=['label'])\n",
        "fig.show()"
      ],
      "metadata": {
        "execution": {
          "iopub.status.busy": "2022-08-03T06:13:25.535392Z",
          "iopub.execute_input": "2022-08-03T06:13:25.535946Z",
          "iopub.status.idle": "2022-08-03T06:13:25.591611Z",
          "shell.execute_reply.started": "2022-08-03T06:13:25.535911Z",
          "shell.execute_reply": "2022-08-03T06:13:25.590556Z"
        },
        "trusted": true,
        "id": "bNH50scl_gPe"
      },
      "execution_count": null,
      "outputs": []
    },
    {
      "cell_type": "code",
      "source": [
        "def distribution(x,title):\n",
        "    plt.figure(figsize=(15,6))\n",
        "    ax = sns.distplot(x, kde=False,bins=30)\n",
        "    values = np.array([rec.get_height() for rec in ax.patches])\n",
        "    norm = plt.Normalize(values.min(), values.max())\n",
        "    colors = plt.cm.jet(norm(values))\n",
        "    for rec, col in zip(ax.patches,colors):\n",
        "        rec.set_color(col)\n",
        "    plt.title(title, size=20, color='black')"
      ],
      "metadata": {
        "execution": {
          "iopub.status.busy": "2022-08-02T10:43:58.431395Z",
          "iopub.execute_input": "2022-08-02T10:43:58.431895Z",
          "iopub.status.idle": "2022-08-02T10:43:58.440783Z",
          "shell.execute_reply.started": "2022-08-02T10:43:58.431851Z",
          "shell.execute_reply": "2022-08-02T10:43:58.439727Z"
        },
        "trusted": true,
        "id": "01tYawLS_gPf"
      },
      "execution_count": null,
      "outputs": []
    },
    {
      "cell_type": "code",
      "source": [
        "distribution(df_features.mfcc19,'Distribution of mfcc19')"
      ],
      "metadata": {
        "execution": {
          "iopub.status.busy": "2022-08-02T10:44:21.955779Z",
          "iopub.execute_input": "2022-08-02T10:44:21.956345Z",
          "iopub.status.idle": "2022-08-02T10:44:22.205256Z",
          "shell.execute_reply.started": "2022-08-02T10:44:21.95631Z",
          "shell.execute_reply": "2022-08-02T10:44:22.204304Z"
        },
        "trusted": true,
        "id": "C7E1kOqI_gPf"
      },
      "execution_count": null,
      "outputs": []
    },
    {
      "cell_type": "code",
      "source": [
        "distribution(df_features.mfcc18,'Distribution of mfcc18')"
      ],
      "metadata": {
        "execution": {
          "iopub.status.busy": "2022-08-02T10:44:44.754721Z",
          "iopub.execute_input": "2022-08-02T10:44:44.755198Z",
          "iopub.status.idle": "2022-08-02T10:44:45.029643Z",
          "shell.execute_reply.started": "2022-08-02T10:44:44.755157Z",
          "shell.execute_reply": "2022-08-02T10:44:45.028689Z"
        },
        "trusted": true,
        "id": "YcZ3aw8-_gPf"
      },
      "execution_count": null,
      "outputs": []
    },
    {
      "cell_type": "code",
      "source": [
        "distribution(df_features.mfcc15,'Distribution of mfcc15')"
      ],
      "metadata": {
        "execution": {
          "iopub.status.busy": "2022-08-02T10:45:07.537257Z",
          "iopub.execute_input": "2022-08-02T10:45:07.537784Z",
          "iopub.status.idle": "2022-08-02T10:45:07.820519Z",
          "shell.execute_reply.started": "2022-08-02T10:45:07.537737Z",
          "shell.execute_reply": "2022-08-02T10:45:07.819546Z"
        },
        "trusted": true,
        "id": "M6N9fU1J_gPf"
      },
      "execution_count": null,
      "outputs": []
    },
    {
      "cell_type": "code",
      "source": [
        "distribution(df_features.mfcc9,'Distribution of mfcc9')"
      ],
      "metadata": {
        "execution": {
          "iopub.status.busy": "2022-08-02T10:45:13.651504Z",
          "iopub.execute_input": "2022-08-02T10:45:13.652542Z",
          "iopub.status.idle": "2022-08-02T10:45:13.902358Z",
          "shell.execute_reply.started": "2022-08-02T10:45:13.652495Z",
          "shell.execute_reply": "2022-08-02T10:45:13.901466Z"
        },
        "trusted": true,
        "id": "dRaGoT81_gPg"
      },
      "execution_count": null,
      "outputs": []
    },
    {
      "cell_type": "code",
      "source": [
        "distribution(df_features.mfcc6,'Distribution of mfcc6')"
      ],
      "metadata": {
        "execution": {
          "iopub.status.busy": "2022-08-02T10:45:41.499922Z",
          "iopub.execute_input": "2022-08-02T10:45:41.500571Z",
          "iopub.status.idle": "2022-08-02T10:45:41.751284Z",
          "shell.execute_reply.started": "2022-08-02T10:45:41.500535Z",
          "shell.execute_reply": "2022-08-02T10:45:41.750379Z"
        },
        "trusted": true,
        "id": "DEau6sKq_gPg"
      },
      "execution_count": null,
      "outputs": []
    },
    {
      "cell_type": "code",
      "source": [
        "distribution(df_features.mfcc5,'Distribution of mfcc5')"
      ],
      "metadata": {
        "execution": {
          "iopub.status.busy": "2022-08-02T10:46:07.056402Z",
          "iopub.execute_input": "2022-08-02T10:46:07.057135Z",
          "iopub.status.idle": "2022-08-02T10:46:07.314983Z",
          "shell.execute_reply.started": "2022-08-02T10:46:07.057094Z",
          "shell.execute_reply": "2022-08-02T10:46:07.314084Z"
        },
        "trusted": true,
        "id": "BfA1UJhx_gPg"
      },
      "execution_count": null,
      "outputs": []
    },
    {
      "cell_type": "code",
      "source": [
        "distribution(df_features.spectral_centroid,'Distribution of spectral_centroid')"
      ],
      "metadata": {
        "execution": {
          "iopub.status.busy": "2022-08-02T10:47:27.00301Z",
          "iopub.execute_input": "2022-08-02T10:47:27.004114Z",
          "iopub.status.idle": "2022-08-02T10:47:27.256547Z",
          "shell.execute_reply.started": "2022-08-02T10:47:27.00407Z",
          "shell.execute_reply": "2022-08-02T10:47:27.255559Z"
        },
        "trusted": true,
        "id": "oPlNZjWh_gPg"
      },
      "execution_count": null,
      "outputs": []
    },
    {
      "cell_type": "code",
      "source": [
        "distribution(df_features.spectral_rolloff,'Distribution of spectral_rolloff')"
      ],
      "metadata": {
        "execution": {
          "iopub.status.busy": "2022-08-02T10:47:21.654432Z",
          "iopub.execute_input": "2022-08-02T10:47:21.655136Z",
          "iopub.status.idle": "2022-08-02T10:47:21.902442Z",
          "shell.execute_reply.started": "2022-08-02T10:47:21.655099Z",
          "shell.execute_reply": "2022-08-02T10:47:21.901561Z"
        },
        "trusted": true,
        "id": "2SevspDx_gPh"
      },
      "execution_count": null,
      "outputs": []
    },
    {
      "cell_type": "code",
      "source": [
        "distribution(df_features.spectral_bandwidth,'Distribution of spectral_bandwith')"
      ],
      "metadata": {
        "execution": {
          "iopub.status.busy": "2022-08-02T10:48:24.87649Z",
          "iopub.execute_input": "2022-08-02T10:48:24.877108Z",
          "iopub.status.idle": "2022-08-02T10:48:25.124615Z",
          "shell.execute_reply.started": "2022-08-02T10:48:24.877069Z",
          "shell.execute_reply": "2022-08-02T10:48:25.123583Z"
        },
        "trusted": true,
        "id": "jwz8VuFF_gPh"
      },
      "execution_count": null,
      "outputs": []
    },
    {
      "cell_type": "code",
      "source": [
        "plt.subplots(4,5,figsize=(20,20))\n",
        "for k in range(1,21):\n",
        "    plt.subplot(4,5,k)\n",
        "    plt.title(df_features.columns[k])\n",
        "    sns.kdeplot(df_features.loc[df_features['label'] == 0, df_features.columns[k]], color= 'green', label='F')\n",
        "    sns.kdeplot(df_features.loc[df_features['label'] == 1, df_features.columns[k]], color= 'red', label='M')"
      ],
      "metadata": {
        "execution": {
          "iopub.status.busy": "2022-08-03T06:14:54.884186Z",
          "iopub.execute_input": "2022-08-03T06:14:54.885168Z",
          "iopub.status.idle": "2022-08-03T06:14:57.385791Z",
          "shell.execute_reply.started": "2022-08-03T06:14:54.885116Z",
          "shell.execute_reply": "2022-08-03T06:14:57.384843Z"
        },
        "trusted": true,
        "id": "S4JlFxi8_gPh"
      },
      "execution_count": null,
      "outputs": []
    },
    {
      "cell_type": "code",
      "source": [
        "X = df_features.iloc[:,1:]\n",
        "y = df_features.label\n",
        "rskf = RepeatedStratifiedKFold(n_splits=5,\n",
        "                                   n_repeats=3,\n",
        "                                   random_state=42)\n",
        "\n",
        "lst_accu_stratified = []\n",
        "for train_index, test_index in rskf.split(X, y):\n",
        "    x_train, x_test = X.iloc[train_index], X.iloc[test_index]\n",
        "    y_train, y_test = y.iloc[train_index], y.iloc[test_index]"
      ],
      "metadata": {
        "execution": {
          "iopub.status.busy": "2022-08-03T06:15:44.74772Z",
          "iopub.execute_input": "2022-08-03T06:15:44.748851Z",
          "iopub.status.idle": "2022-08-03T06:15:44.768839Z",
          "shell.execute_reply.started": "2022-08-03T06:15:44.748804Z",
          "shell.execute_reply": "2022-08-03T06:15:44.767834Z"
        },
        "trusted": true,
        "id": "kCgLx0f4_gPh"
      },
      "execution_count": null,
      "outputs": []
    },
    {
      "cell_type": "code",
      "source": [
        "from sklearn.model_selection import KFold\n",
        "from sklearn.model_selection import GridSearchCV\n",
        "from sklearn.svm import SVC\n",
        "from sklearn.ensemble import RandomForestClassifier\n",
        "from sklearn.metrics import f1_score\n",
        "\n",
        "classifiers_and_params = [\n",
        "    (SVC(), {'C': [200, 150, 100], 'gamma': ['auto', 'scale']}),\n",
        "    (RandomForestClassifier(), {'n_estimators': [100, 150, 200]})\n",
        "]\n",
        "\n",
        "for tup in classifiers_and_params:\n",
        "    print(\"{}\".format(tup[0].__class__.__name__))\n",
        "\n",
        "    # the main CV process\n",
        "    outer_cv = KFold(n_splits=3, shuffle=True, random_state=0)\n",
        "    fold_counter = 0\n",
        "\n",
        "    results = list()\n",
        "    for train_idx, test_idx in outer_cv.split(X_new):\n",
        "        fold_counter += 1\n",
        "\n",
        "        # split data in training and test sets\n",
        "        X_train, X_test = X_new[train_idx], X_new[test_idx]\n",
        "        y_train, y_test = y[train_idx], y[test_idx]\n",
        "\n",
        "        # the CV process used for the Grid Search\n",
        "        inner_cv = KFold(n_splits=2, shuffle=True, random_state=0)\n",
        "\n",
        "        # define and run the Grid Search CV process\n",
        "        gs = GridSearchCV(tup[0], tup[1], scoring='f1_macro', cv=inner_cv, refit=True)\n",
        "        res = gs.fit(X_train, y_train)\n",
        "\n",
        "        # get the best model, re-fit on the whole training set\n",
        "        best_model = res.best_estimator_\n",
        "\n",
        "        # evaluation on the test set\n",
        "        pred = best_model.predict(X_test)\n",
        "        score = f1_score(y_test, pred, average='macro')\n",
        "        results.append(score)\n",
        "\n",
        "        print(\"\\tFold {}, Best Params {} with F1 Score {:.3f}, F1 Score on Test data {:.3f}\"\n",
        "              .format(fold_counter, res.best_params_, res.best_score_, score))\n",
        "\n",
        "    print('\\tAverage F1 Score on Test Set: {:.3f}\\n'.format(np.mean(results)))"
      ],
      "metadata": {
        "execution": {
          "iopub.status.busy": "2022-08-03T06:15:49.751553Z",
          "iopub.execute_input": "2022-08-03T06:15:49.751916Z",
          "iopub.status.idle": "2022-08-03T06:15:54.848274Z",
          "shell.execute_reply.started": "2022-08-03T06:15:49.751884Z",
          "shell.execute_reply": "2022-08-03T06:15:54.846905Z"
        },
        "trusted": true,
        "id": "igM_-cn1_gPi"
      },
      "execution_count": null,
      "outputs": []
    },
    {
      "cell_type": "code",
      "source": [
        "#anomaly detection\n",
        "# let's see another algorithms\n",
        "#continue ....\n"
      ],
      "metadata": {
        "execution": {
          "iopub.status.busy": "2022-08-02T11:03:45.621733Z",
          "iopub.execute_input": "2022-08-02T11:03:45.622325Z",
          "iopub.status.idle": "2022-08-02T11:03:45.626911Z",
          "shell.execute_reply.started": "2022-08-02T11:03:45.62229Z",
          "shell.execute_reply": "2022-08-02T11:03:45.6259Z"
        },
        "trusted": true,
        "id": "QgztKpOz_gPi"
      },
      "execution_count": null,
      "outputs": []
    },
    {
      "cell_type": "markdown",
      "source": [
        "Great thanks to the notebooks\n",
        "1. https://www.kaggle.com/code/mehmetsametdurgun/ml-model-for-gender-age-detection-from-voice\n",
        "2. https://www.kaggle.com/code/mammadabbasli/voice-recognition-using-tensorflow!"
      ],
      "metadata": {
        "id": "BFr6VP-S_gPj"
      }
    },
    {
      "cell_type": "code",
      "source": [],
      "metadata": {
        "id": "D7fyR3nO_gPj"
      },
      "execution_count": null,
      "outputs": []
    }
  ]
}